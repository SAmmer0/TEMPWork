{
 "cells": [
  {
   "cell_type": "markdown",
   "metadata": {},
   "source": [
    "1. (a) Let $y(t)$ denote the YTM of the bond, thus  \n",
    "$y(20)\\ =\\ \\frac{\\int_{0}^{20}{r(s)ds}}{20} \\\\\n",
    "=\\ \\frac{\\int_{0}^{20}{(0.028\\ +\\ 0.00042t)dt}}{20} \\\\\n",
    "=\\ 0.0322 \\\\\n",
    "=\\ 3.22\\%$  \n",
    "(b) $P(t)\\ =\\ PAR\\centerdot e^{-(\\int_{0}^{t}{r(s)ds)}}$  \n",
    "Let $PAR\\ =\\ 1000$ and $t\\ =\\ 15$  \n",
    "$P(15)\\ =\\ 1000e^{-\\int_{0}^{15}{(0.028\\ +\\ 0.00042t)dt}} \\\\\n",
    "=\\ 626.7234$  \n",
    "\n",
    "2. (a) Let $y(t)$ denote the spot rate, thus  \n",
    "$y(5)\\ =\\ \\frac{\\int_{0}^{5}{(0.0032\\ +\\ 0.001t\\ +\\ 0.0002t^2)dt}}{5} \\\\\n",
    "=\\ 3.617\\%$  \n",
    "(b) Assume the PAR value of the zero-coupon is 1 and let $P(t)$ denote the PV of the zero-coupon, thus  \n",
    "$P(5)\\ =\\ e^{-\\int_{0}^{5}{(0.0032\\ +\\ 0.001t\\ +\\ 0.0002t^2)dt}} \\\\\n",
    "=\\ 0.8345744$\n",
    "\n",
    "3. $\\sum_{t=1}^{2T}{\\frac{C}{(1\\ +\\ r)^t}}\\ +\\ \\frac{PAR}{(1\\ +\\ r)^{2T}} \\\\\n",
    "=\\ \\sum_{t=1}^{\\infty}{\\frac{C}{(1\\ +\\ r)^t}}\\ -\\ \\sum_{t=2T+1}^{\\infty}{\\frac{C}{(1\\ +\\ r)^t}}\\ +\\ \\frac{PAR}{(1\\ +\\ r)^{2T}} \\\\\n",
    "=\\ \\frac{C}{r}\\ -\\ \\frac{C}{r} \\centerdot \\frac{1}{(1\\ +\\ r)^{2T}}\\ +\\ \\frac{PAR}{(1\\ +\\ r)^{2T}} \\\\\n",
    "=\\ \\frac{C}{r}\\ +\\ (PAR - \\frac{C}{r})^{-2T}$\n",
    "\n",
    "4. (a) Because  \n",
    "$log(\\frac{PAR}{PV(t)})\\ =\\ e^{\\int_{0}^{t}{r(s)ds}}\\ =\\ e^{rt}$  \n",
    "Thus  \n",
    "$r\\ =\\ \\frac{log(\\frac{PAR}{PV(t)})}{t} \\\\\n",
    "=\\ \\frac{log(\\frac{1000}{818})}{5} \\\\\n",
    "=\\ 4.018\\%$  \n",
    "(b) $PV(4)\\ =\\ 1000e^{-0.042 \\times 4} \\\\\n",
    "=\\ 845.3538$  \n",
    "(c) $R_t\\ =\\ \\frac{P_t - P_{t-1}}{P_{t-1}} \\\\\n",
    "=\\ \\frac{845.3538 - 828}{828} \\\\\n",
    "=\\ 2.096\\%$\n",
    "\n",
    "5. \n",
    "\n",
    "6. (a) Let $y$ denote the YTM, thus  \n",
    "$1050 = \\sum_{t=0}^{14}{\\frac{24}{(1\\ +\\ \\frac{y}{2})^t}}\\ +\\ \\frac{1000}{(1\\ +\\ \\frac{y}{2})^{14}} \\\\\n",
    "\\Rightarrow\\ y\\ =\\ 3.975\\%$  \n",
    "(b) The current yield is  \n",
    "$y_{current}\\ =\\ 2\\frac{24}{1050} \\\\\n",
    "=\\ 4.571\\%$  \n",
    "(c) The YTM is less than the current yield, because YTM has taken capital loss into consideration.\n",
    "\n",
    "\n"
   ]
  },
  {
   "cell_type": "code",
   "execution_count": 31,
   "metadata": {
    "collapsed": false
   },
   "outputs": [
    {
     "data": {
      "text/plain": [
       "0.045714285714285714"
      ]
     },
     "execution_count": 31,
     "metadata": {},
     "output_type": "execute_result"
    }
   ],
   "source": [
    "from math import exp, log\n",
    "1000*exp(-(0.028*15+0.00021*15**2))\n",
    "exp(-(0.032+0.0005*5+0.0002/3*25)*5)\n",
    "log(1000/818)/5\n",
    "(1000*exp(-0.042*4) - 828)/828\n",
    "24/1050*2"
   ]
  },
  {
   "cell_type": "code",
   "execution_count": 30,
   "metadata": {
    "collapsed": false
   },
   "outputs": [
    {
     "name": "stdout",
     "output_type": "stream",
     "text": [
      "[ 0.03974715]\n"
     ]
    }
   ],
   "source": [
    "import numpy as np\n",
    "from scipy. optimize import fsolve\n",
    "def equation(y):\n",
    "    par = 1000\n",
    "    c = 24\n",
    "    res = 0\n",
    "    for i in range(14):\n",
    "        res = (res + c)/(1 + y/2)\n",
    "    res += 1000/(1 + y/2)**14\n",
    "    res -= 1050\n",
    "    return res\n",
    "\n",
    "result = fsolve(equation, 0.02)\n",
    "print(result)"
   ]
  }
 ],
 "metadata": {
  "kernelspec": {
   "display_name": "Python 3",
   "language": "python",
   "name": "python3"
  },
  "language_info": {
   "codemirror_mode": {
    "name": "ipython",
    "version": 3
   },
   "file_extension": ".py",
   "mimetype": "text/x-python",
   "name": "python",
   "nbconvert_exporter": "python",
   "pygments_lexer": "ipython3",
   "version": "3.5.1"
  }
 },
 "nbformat": 4,
 "nbformat_minor": 0
}
